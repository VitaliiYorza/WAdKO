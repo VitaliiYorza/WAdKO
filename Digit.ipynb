{
  "nbformat": 4,
  "nbformat_minor": 0,
  "metadata": {
    "colab": {
      "provenance": []
    },
    "kernelspec": {
      "name": "python3",
      "display_name": "Python 3"
    },
    "language_info": {
      "name": "python"
    }
  },
  "cells": [
    {
      "cell_type": "code",
      "execution_count": 1,
      "metadata": {
        "id": "QS46hvpkZs6K"
      },
      "outputs": [],
      "source": [
        "import keras\n",
        "import tensorflow as tf\n",
        "\n",
        "\n"
      ]
    },
    {
      "cell_type": "code",
      "source": [
        "from keras.datasets import mnist\n",
        "\n",
        "(x_train, y_train), (x_test, y_test) = mnist.load_data()"
      ],
      "metadata": {
        "colab": {
          "base_uri": "https://localhost:8080/"
        },
        "id": "Qdm6eHoIZvWb",
        "outputId": "e4cb8325-6aea-42f0-9dc6-35b69fa12b4a"
      },
      "execution_count": 2,
      "outputs": [
        {
          "output_type": "stream",
          "name": "stdout",
          "text": [
            "Downloading data from https://storage.googleapis.com/tensorflow/tf-keras-datasets/mnist.npz\n",
            "11490434/11490434 [==============================] - 0s 0us/step\n"
          ]
        }
      ]
    },
    {
      "cell_type": "code",
      "source": [
        "def ShowMeArray(tab):\n",
        "    for i in range(len(tab)):\n",
        "        for d in tab[i]:\n",
        "            print(str(d)+'   ', end='')\n",
        "        print('')"
      ],
      "metadata": {
        "id": "frl7XOPSZxP7"
      },
      "execution_count": 3,
      "outputs": []
    },
    {
      "cell_type": "code",
      "source": [
        "ShowMeArray(x_train[0])"
      ],
      "metadata": {
        "colab": {
          "base_uri": "https://localhost:8080/"
        },
        "id": "nU3RgqLFZ5Cw",
        "outputId": "2d82c160-08d1-48a1-f005-f242def650ef"
      },
      "execution_count": 4,
      "outputs": [
        {
          "output_type": "stream",
          "name": "stdout",
          "text": [
            "0   0   0   0   0   0   0   0   0   0   0   0   0   0   0   0   0   0   0   0   0   0   0   0   0   0   0   0   \n",
            "0   0   0   0   0   0   0   0   0   0   0   0   0   0   0   0   0   0   0   0   0   0   0   0   0   0   0   0   \n",
            "0   0   0   0   0   0   0   0   0   0   0   0   0   0   0   0   0   0   0   0   0   0   0   0   0   0   0   0   \n",
            "0   0   0   0   0   0   0   0   0   0   0   0   0   0   0   0   0   0   0   0   0   0   0   0   0   0   0   0   \n",
            "0   0   0   0   0   0   0   0   0   0   0   0   0   0   0   0   0   0   0   0   0   0   0   0   0   0   0   0   \n",
            "0   0   0   0   0   0   0   0   0   0   0   0   3   18   18   18   126   136   175   26   166   255   247   127   0   0   0   0   \n",
            "0   0   0   0   0   0   0   0   30   36   94   154   170   253   253   253   253   253   225   172   253   242   195   64   0   0   0   0   \n",
            "0   0   0   0   0   0   0   49   238   253   253   253   253   253   253   253   253   251   93   82   82   56   39   0   0   0   0   0   \n",
            "0   0   0   0   0   0   0   18   219   253   253   253   253   253   198   182   247   241   0   0   0   0   0   0   0   0   0   0   \n",
            "0   0   0   0   0   0   0   0   80   156   107   253   253   205   11   0   43   154   0   0   0   0   0   0   0   0   0   0   \n",
            "0   0   0   0   0   0   0   0   0   14   1   154   253   90   0   0   0   0   0   0   0   0   0   0   0   0   0   0   \n",
            "0   0   0   0   0   0   0   0   0   0   0   139   253   190   2   0   0   0   0   0   0   0   0   0   0   0   0   0   \n",
            "0   0   0   0   0   0   0   0   0   0   0   11   190   253   70   0   0   0   0   0   0   0   0   0   0   0   0   0   \n",
            "0   0   0   0   0   0   0   0   0   0   0   0   35   241   225   160   108   1   0   0   0   0   0   0   0   0   0   0   \n",
            "0   0   0   0   0   0   0   0   0   0   0   0   0   81   240   253   253   119   25   0   0   0   0   0   0   0   0   0   \n",
            "0   0   0   0   0   0   0   0   0   0   0   0   0   0   45   186   253   253   150   27   0   0   0   0   0   0   0   0   \n",
            "0   0   0   0   0   0   0   0   0   0   0   0   0   0   0   16   93   252   253   187   0   0   0   0   0   0   0   0   \n",
            "0   0   0   0   0   0   0   0   0   0   0   0   0   0   0   0   0   249   253   249   64   0   0   0   0   0   0   0   \n",
            "0   0   0   0   0   0   0   0   0   0   0   0   0   0   46   130   183   253   253   207   2   0   0   0   0   0   0   0   \n",
            "0   0   0   0   0   0   0   0   0   0   0   0   39   148   229   253   253   253   250   182   0   0   0   0   0   0   0   0   \n",
            "0   0   0   0   0   0   0   0   0   0   24   114   221   253   253   253   253   201   78   0   0   0   0   0   0   0   0   0   \n",
            "0   0   0   0   0   0   0   0   23   66   213   253   253   253   253   198   81   2   0   0   0   0   0   0   0   0   0   0   \n",
            "0   0   0   0   0   0   18   171   219   253   253   253   253   195   80   9   0   0   0   0   0   0   0   0   0   0   0   0   \n",
            "0   0   0   0   55   172   226   253   253   253   253   244   133   11   0   0   0   0   0   0   0   0   0   0   0   0   0   0   \n",
            "0   0   0   0   136   253   253   253   212   135   132   16   0   0   0   0   0   0   0   0   0   0   0   0   0   0   0   0   \n",
            "0   0   0   0   0   0   0   0   0   0   0   0   0   0   0   0   0   0   0   0   0   0   0   0   0   0   0   0   \n",
            "0   0   0   0   0   0   0   0   0   0   0   0   0   0   0   0   0   0   0   0   0   0   0   0   0   0   0   0   \n",
            "0   0   0   0   0   0   0   0   0   0   0   0   0   0   0   0   0   0   0   0   0   0   0   0   0   0   0   0   \n"
          ]
        }
      ]
    },
    {
      "cell_type": "code",
      "source": [
        "import matplotlib.pyplot as plt\n",
        "index = 0\n",
        "plt.imshow(x_train[index].reshape(28,28), cmap='gray')\n",
        "plt.axis('off');"
      ],
      "metadata": {
        "colab": {
          "base_uri": "https://localhost:8080/",
          "height": 406
        },
        "id": "0QNbxc6GZ6WD",
        "outputId": "d2002ff8-fbd1-49b5-ed89-909beca9da20"
      },
      "execution_count": 5,
      "outputs": [
        {
          "output_type": "display_data",
          "data": {
            "text/plain": [
              "<Figure size 640x480 with 1 Axes>"
            ],
            "image/png": "[encoded data removed]"
          },
          "metadata": {}
        }
      ]
    },
    {
      "cell_type": "code",
      "source": [
        "x_train.shape, len(y_train), len(y_test), y_test"
      ],
      "metadata": {
        "colab": {
          "base_uri": "https://localhost:8080/"
        },
        "id": "QvIaObwaaABY",
        "outputId": "7f2e7af5-ff21-4931-93df-5b6da83fba9c"
      },
      "execution_count": 6,
      "outputs": [
        {
          "output_type": "execute_result",
          "data": {
            "text/plain": [
              "((60000, 28, 28), 60000, 10000, array([7, 2, 1, ..., 4, 5, 6], dtype=uint8))"
            ]
          },
          "metadata": {},
          "execution_count": 6
        }
      ]
    },
    {
      "cell_type": "code",
      "source": [
        "x_train = x_train.reshape((60000, 28 * 28))\n",
        "x_train = x_train.astype('float32') / 255\n",
        "\n",
        "x_test = x_test.reshape((10000, 28 * 28))\n",
        "x_test = x_test.astype('float32') / 255"
      ],
      "metadata": {
        "id": "mt8_euw3aOfT"
      },
      "execution_count": 7,
      "outputs": []
    },
    {
      "cell_type": "code",
      "source": [
        "from keras.utils import to_categorical\n",
        "y_train = to_categorical(y_train)\n",
        "y_test  = to_categorical(y_test)\n",
        "print(y_test[1])"
      ],
      "metadata": {
        "colab": {
          "base_uri": "https://localhost:8080/"
        },
        "id": "_tlXjxtbaQl4",
        "outputId": "93bb02b6-8f17-4ab4-af9b-ede132ecea1b"
      },
      "execution_count": 8,
      "outputs": [
        {
          "output_type": "stream",
          "name": "stdout",
          "text": [
            "[0. 0. 1. 0. 0. 0. 0. 0. 0. 0.]\n"
          ]
        }
      ]
    },
    {
      "cell_type": "code",
      "source": [
        "from keras import models\n",
        "from keras import layers\n",
        "model = models.Sequential()\n",
        "model.add(layers.Dense(85,activation ='relu', input_shape=(784,))) #Hmm, now i add new layer and increase sum of neurons and result is better ## when i reverse num of neurons its give me much better accuracy\n",
        "model.add(layers.Dense(75, activation ='relu', input_shape=(784,)))# difference between accuracy without this layer just 0.0031, but our graphs look much better\n",
        "model.add(layers.Dense(55, activation ='relu', input_shape=(784,)))\n",
        "model.add(layers.Dense(45, activation ='relu', input_shape=(784,)))\n",
        "model.add(layers.Dense(30, activation ='relu', input_shape=(784,)))\n",
        "model.add(layers.Dense(15, activation ='relu', input_shape=(784,)))\n",
        "model.add(layers.Dense(10, activation ='softmax'))\n",
        "# wiecej warst, layerow\n",
        "model.compile(optimizer = 'rmsprop', loss = 'categorical_crossentropy', metrics = ['accuracy'])\n",
        "history = model.fit(x_train, y_train, epochs=9,validation_split=0.2)"
      ],
      "metadata": {
        "colab": {
          "base_uri": "https://localhost:8080/"
        },
        "id": "gUEeMMm-aab7",
        "outputId": "af71e5f5-588d-4cd2-f218-e04b2730a0e0"
      },
      "execution_count": 11,
      "outputs": [
        {
          "output_type": "stream",
          "name": "stdout",
          "text": [
            "Epoch 1/9\n",
            "1500/1500 [==============================] - 7s 4ms/step - loss: 0.4109 - accuracy: 0.8811 - val_loss: 0.2113 - val_accuracy: 0.9399\n",
            "Epoch 2/9\n",
            "1500/1500 [==============================] - 8s 5ms/step - loss: 0.1562 - accuracy: 0.9556 - val_loss: 0.1288 - val_accuracy: 0.9650\n",
            "Epoch 3/9\n",
            "1500/1500 [==============================] - 4s 3ms/step - loss: 0.1154 - accuracy: 0.9688 - val_loss: 0.1415 - val_accuracy: 0.9611\n",
            "Epoch 4/9\n",
            "1500/1500 [==============================] - 6s 4ms/step - loss: 0.0962 - accuracy: 0.9737 - val_loss: 0.1381 - val_accuracy: 0.9638\n",
            "Epoch 5/9\n",
            "1500/1500 [==============================] - 4s 3ms/step - loss: 0.0827 - accuracy: 0.9768 - val_loss: 0.1330 - val_accuracy: 0.9692\n",
            "Epoch 6/9\n",
            "1500/1500 [==============================] - 6s 4ms/step - loss: 0.0712 - accuracy: 0.9810 - val_loss: 0.1396 - val_accuracy: 0.9707\n",
            "Epoch 7/9\n",
            "1500/1500 [==============================] - 5s 3ms/step - loss: 0.0651 - accuracy: 0.9830 - val_loss: 0.1624 - val_accuracy: 0.9669\n",
            "Epoch 8/9\n",
            "1500/1500 [==============================] - 4s 3ms/step - loss: 0.0595 - accuracy: 0.9846 - val_loss: 0.1352 - val_accuracy: 0.9722\n",
            "Epoch 9/9\n",
            "1500/1500 [==============================] - 5s 4ms/step - loss: 0.0566 - accuracy: 0.9858 - val_loss: 0.1464 - val_accuracy: 0.9722\n"
          ]
        }
      ]
    },
    {
      "cell_type": "code",
      "source": [
        "model.save('my_model.keras')"
      ],
      "metadata": {
        "id": "klWmLmm3a8Py"
      },
      "execution_count": 10,
      "outputs": []
    },
    {
      "cell_type": "code",
      "source": [],
      "metadata": {
        "id": "rIT5ePoH4MK-"
      },
      "execution_count": 15,
      "outputs": []
    },
    {
      "cell_type": "code",
      "source": [
        "test_loss, test_metr = model.evaluate(x_test, y_test)"
      ],
      "metadata": {
        "colab": {
          "base_uri": "https://localhost:8080/"
        },
        "id": "TGHUKcwQbAjr",
        "outputId": "182f956f-4885-472e-bd30-b51c3e3b1477"
      },
      "execution_count": 12,
      "outputs": [
        {
          "output_type": "stream",
          "name": "stdout",
          "text": [
            "313/313 [==============================] - 1s 2ms/step - loss: 0.1313 - accuracy: 0.9726\n"
          ]
        }
      ]
    },
    {
      "cell_type": "code",
      "source": [
        "print('test_acc:', test_metr)"
      ],
      "metadata": {
        "colab": {
          "base_uri": "https://localhost:8080/"
        },
        "id": "covbUh8hbA4x",
        "outputId": "5fc46283-d0ad-4db9-815d-aa5ab8b6ac96"
      },
      "execution_count": 13,
      "outputs": [
        {
          "output_type": "stream",
          "name": "stdout",
          "text": [
            "test_acc: 0.972599983215332\n"
          ]
        }
      ]
    },
    {
      "cell_type": "code",
      "source": [
        "y_pred = model.predict(x_test)"
      ],
      "metadata": {
        "colab": {
          "base_uri": "https://localhost:8080/"
        },
        "id": "4B7zjAB_bBE0",
        "outputId": "b574aeb8-8517-4644-b7a8-effc35e4470f"
      },
      "execution_count": 14,
      "outputs": [
        {
          "output_type": "stream",
          "name": "stdout",
          "text": [
            "313/313 [==============================] - 1s 2ms/step\n"
          ]
        }
      ]
    },
    {
      "cell_type": "code",
      "source": [
        "# how to find a erros:\n",
        "# import numpy as np\n",
        "# klasy = np.argmax(y_pred, axis = 1)\n",
        "# np.unique(klasy == np.argmax(y_test,axis = 1), return_index = True, return_counts = True)\n",
        "# l  = []\n",
        "# for i in range(1000):\n",
        "#   if (klasy[i] != np.argmax(y_test,axis = 1)[i]):\n",
        "#     l.append(i)\n",
        "#     print('Sklasyfikowane:',klasy[i],'Etyketa:', np.argmax(y_test, axis = 1)[i], 'i:', i)\n",
        "#     plt.imshow(x_test[i].reshape(28,28))\n",
        "#     # plt.show()\n",
        "# len(l)"
      ],
      "metadata": {
        "id": "jZmJ0zcPdhCn"
      },
      "execution_count": 58,
      "outputs": []
    },
    {
      "cell_type": "code",
      "source": [
        "from google.colab import files\n",
        "\n",
        "uploaded = files.upload()"
      ],
      "metadata": {
        "colab": {
          "base_uri": "https://localhost:8080/",
          "height": 73
        },
        "id": "DgG85fQJbBMR",
        "outputId": "880a84ed-8501-49d8-cb76-4094d9a47df3"
      },
      "execution_count": 76,
      "outputs": [
        {
          "output_type": "display_data",
          "data": {
            "text/plain": [
              "<IPython.core.display.HTML object>"
            ],
            "text/html": [
              "\n",
              "     <input type=\"file\" id=\"files-62ae5c6d-c44a-4053-a6f0-14e94779702c\" name=\"files[]\" multiple disabled\n",
              "        style=\"border:none\" />\n",
              "     <output id=\"result-62ae5c6d-c44a-4053-a6f0-14e94779702c\">\n",
              "      Upload widget is only available when the cell has been executed in the\n",
              "      current browser session. Please rerun this cell to enable.\n",
              "      </output>\n",
              "      <script>// Copyright 2017 Google LLC\n",
              "//\n",
              "// Licensed under the Apache License, Version 2.0 (the \"License\");\n",
              "// you may not use this file except in compliance with the License.\n",
              "// You may obtain a copy of the License at\n",
              "//\n",
              "//      http://www.apache.org/licenses/LICENSE-2.0\n",
              "//\n",
              "// Unless required by applicable law or agreed to in writing, software\n",
              "// distributed under the License is distributed on an \"AS IS\" BASIS,\n",
              "// WITHOUT WARRANTIES OR CONDITIONS OF ANY KIND, either express or implied.\n",
              "// See the License for the specific language governing permissions and\n",
              "// limitations under the License.\n",
              "\n",
              "/**\n",
              " * @fileoverview Helpers for google.colab Python module.\n",
              " */\n",
              "(function(scope) {\n",
              "function span(text, styleAttributes = {}) {\n",
              "  const element = document.createElement('span');\n",
              "  element.textContent = text;\n",
              "  for (const key of Object.keys(styleAttributes)) {\n",
              "    element.style[key] = styleAttributes[key];\n",
              "  }\n",
              "  return element;\n",
              "}\n",
              "\n",
              "// Max number of bytes which will be uploaded at a time.\n",
              "const MAX_PAYLOAD_SIZE = 100 * 1024;\n",
              "\n",
              "function _uploadFiles(inputId, outputId) {\n",
              "  const steps = uploadFilesStep(inputId, outputId);\n",
              "  const outputElement = document.getElementById(outputId);\n",
              "  // Cache steps on the outputElement to make it available for the next call\n",
              "  // to uploadFilesContinue from Python.\n",
              "  outputElement.steps = steps;\n",
              "\n",
              "  return _uploadFilesContinue(outputId);\n",
              "}\n",
              "\n",
              "// This is roughly an async generator (not supported in the browser yet),\n",
              "// where there are multiple asynchronous steps and the Python side is going\n",
              "// to poll for completion of each step.\n",
              "// This uses a Promise to block the python side on completion of each step,\n",
              "// then passes the result of the previous step as the input to the next step.\n",
              "function _uploadFilesContinue(outputId) {\n",
              "  const outputElement = document.getElementById(outputId);\n",
              "  const steps = outputElement.steps;\n",
              "\n",
              "  const next = steps.next(outputElement.lastPromiseValue);\n",
              "  return Promise.resolve(next.value.promise).then((value) => {\n",
              "    // Cache the last promise value to make it available to the next\n",
              "    // step of the generator.\n",
              "    outputElement.lastPromiseValue = value;\n",
              "    return next.value.response;\n",
              "  });\n",
              "}\n",
              "\n",
              "/**\n",
              " * Generator function which is called between each async step of the upload\n",
              " * process.\n",
              " * @param {string} inputId Element ID of the input file picker element.\n",
              " * @param {string} outputId Element ID of the output display.\n",
              " * @return {!Iterable<!Object>} Iterable of next steps.\n",
              " */\n",
              "function* uploadFilesStep(inputId, outputId) {\n",
              "  const inputElement = document.getElementById(inputId);\n",
              "  inputElement.disabled = false;\n",
              "\n",
              "  const outputElement = document.getElementById(outputId);\n",
              "  outputElement.innerHTML = '';\n",
              "\n",
              "  const pickedPromise = new Promise((resolve) => {\n",
              "    inputElement.addEventListener('change', (e) => {\n",
              "      resolve(e.target.files);\n",
              "    });\n",
              "  });\n",
              "\n",
              "  const cancel = document.createElement('button');\n",
              "  inputElement.parentElement.appendChild(cancel);\n",
              "  cancel.textContent = 'Cancel upload';\n",
              "  const cancelPromise = new Promise((resolve) => {\n",
              "    cancel.onclick = () => {\n",
              "      resolve(null);\n",
              "    };\n",
              "  });\n",
              "\n",
              "  // Wait for the user to pick the files.\n",
              "  const files = yield {\n",
              "    promise: Promise.race([pickedPromise, cancelPromise]),\n",
              "    response: {\n",
              "      action: 'starting',\n",
              "    }\n",
              "  };\n",
              "\n",
              "  cancel.remove();\n",
              "\n",
              "  // Disable the input element since further picks are not allowed.\n",
              "  inputElement.disabled = true;\n",
              "\n",
              "  if (!files) {\n",
              "    return {\n",
              "      response: {\n",
              "        action: 'complete',\n",
              "      }\n",
              "    };\n",
              "  }\n",
              "\n",
              "  for (const file of files) {\n",
              "    const li = document.createElement('li');\n",
              "    li.append(span(file.name, {fontWeight: 'bold'}));\n",
              "    li.append(span(\n",
              "        `(${file.type || 'n/a'}) - ${file.size} bytes, ` +\n",
              "        `last modified: ${\n",
              "            file.lastModifiedDate ? file.lastModifiedDate.toLocaleDateString() :\n",
              "                                    'n/a'} - `));\n",
              "    const percent = span('0% done');\n",
              "    li.appendChild(percent);\n",
              "\n",
              "    outputElement.appendChild(li);\n",
              "\n",
              "    const fileDataPromise = new Promise((resolve) => {\n",
              "      const reader = new FileReader();\n",
              "      reader.onload = (e) => {\n",
              "        resolve(e.target.result);\n",
              "      };\n",
              "      reader.readAsArrayBuffer(file);\n",
              "    });\n",
              "    // Wait for the data to be ready.\n",
              "    let fileData = yield {\n",
              "      promise: fileDataPromise,\n",
              "      response: {\n",
              "        action: 'continue',\n",
              "      }\n",
              "    };\n",
              "\n",
              "    // Use a chunked sending to avoid message size limits. See b/62115660.\n",
              "    let position = 0;\n",
              "    do {\n",
              "      const length = Math.min(fileData.byteLength - position, MAX_PAYLOAD_SIZE);\n",
              "      const chunk = new Uint8Array(fileData, position, length);\n",
              "      position += length;\n",
              "\n",
              "      const base64 = btoa(String.fromCharCode.apply(null, chunk));\n",
              "      yield {\n",
              "        response: {\n",
              "          action: 'append',\n",
              "          file: file.name,\n",
              "          data: base64,\n",
              "        },\n",
              "      };\n",
              "\n",
              "      let percentDone = fileData.byteLength === 0 ?\n",
              "          100 :\n",
              "          Math.round((position / fileData.byteLength) * 100);\n",
              "      percent.textContent = `${percentDone}% done`;\n",
              "\n",
              "    } while (position < fileData.byteLength);\n",
              "  }\n",
              "\n",
              "  // All done.\n",
              "  yield {\n",
              "    response: {\n",
              "      action: 'complete',\n",
              "    }\n",
              "  };\n",
              "}\n",
              "\n",
              "scope.google = scope.google || {};\n",
              "scope.google.colab = scope.google.colab || {};\n",
              "scope.google.colab._files = {\n",
              "  _uploadFiles,\n",
              "  _uploadFilesContinue,\n",
              "};\n",
              "})(self);\n",
              "</script> "
            ]
          },
          "metadata": {}
        },
        {
          "output_type": "stream",
          "name": "stdout",
          "text": [
            "Saving 3_hand.jpg to 3_hand (2).jpg\n"
          ]
        }
      ]
    },
    {
      "cell_type": "code",
      "source": [
        "from PIL import Image\n",
        "import IPython.display as display\n",
        "img = Image.open(\"3_hand (2).jpg\")\n",
        "display.display(img)"
      ],
      "metadata": {
        "colab": {
          "base_uri": "https://localhost:8080/",
          "height": 306
        },
        "id": "ns9nKIcebBTz",
        "outputId": "1d07073b-4837-453c-e67d-55bac25954c2"
      },
      "execution_count": 82,
      "outputs": [
        {
          "output_type": "display_data",
          "data": {
            "text/plain": [
              "<PIL.JpegImagePlugin.JpegImageFile image mode=RGB size=225x289>"
            ],
            "image/png": "[encoded data removed]"
          },
          "metadata": {}
        }
      ]
    },
    {
      "cell_type": "code",
      "source": [
        "import cv2\n",
        "import numpy as np\n",
        "\n",
        "#load ur image\n",
        "image = cv2.imread('3_hand (2).jpg', cv2.IMREAD_GRAYSCALE)\n",
        "\n",
        "# reshape 28x28\n",
        "image = cv2.resize(image, (28, 28))\n",
        "image_array = np.array(image)\n",
        "image_array.shape\n",
        "inverted_image = 255 - image_array\n"
      ],
      "metadata": {
        "id": "39noeqKZbT8R"
      },
      "execution_count": 83,
      "outputs": []
    },
    {
      "cell_type": "code",
      "source": [
        "import matplotlib.pyplot as plt\n",
        "plt.imshow(inverted_image.reshape(28,28), cmap='gray')\n",
        "plt.axis('off');"
      ],
      "metadata": {
        "colab": {
          "base_uri": "https://localhost:8080/",
          "height": 406
        },
        "id": "M-cQI9rvbUK6",
        "outputId": "c7578f1b-dee4-4c1f-efae-2c9402f48bdf"
      },
      "execution_count": 84,
      "outputs": [
        {
          "output_type": "display_data",
          "data": {
            "text/plain": [
              "<Figure size 640x480 with 1 Axes>"
            ],
            "image/png": "[encoded data removed]"
          },
          "metadata": {}
        }
      ]
    },
    {
      "cell_type": "code",
      "source": [],
      "metadata": {
        "id": "S_19xZvcdzyv"
      },
      "execution_count": 40,
      "outputs": []
    },
    {
      "cell_type": "code",
      "source": [
        "\n",
        "img = inverted_image / 255.0\n",
        "img = img.reshape(784)\n",
        "img = img.reshape(1, -1)"
      ],
      "metadata": {
        "id": "_l7ubD6cbUR5"
      },
      "execution_count": 85,
      "outputs": []
    },
    {
      "cell_type": "code",
      "source": [
        "img.shape"
      ],
      "metadata": {
        "colab": {
          "base_uri": "https://localhost:8080/"
        },
        "id": "AM8tPzaBiv4y",
        "outputId": "bd297275-d08c-462d-97f6-de24503665a1"
      },
      "execution_count": 86,
      "outputs": [
        {
          "output_type": "execute_result",
          "data": {
            "text/plain": [
              "(1, 784)"
            ]
          },
          "metadata": {},
          "execution_count": 86
        }
      ]
    },
    {
      "cell_type": "code",
      "source": [
        "y_pred = model.predict(img)"
      ],
      "metadata": {
        "colab": {
          "base_uri": "https://localhost:8080/"
        },
        "id": "foXu1siPbUXl",
        "outputId": "a390e450-5f7c-4f54-923e-0cf2ee7f046d"
      },
      "execution_count": 87,
      "outputs": [
        {
          "output_type": "stream",
          "name": "stdout",
          "text": [
            "1/1 [==============================] - 0s 23ms/step\n"
          ]
        }
      ]
    },
    {
      "cell_type": "code",
      "source": [
        "predicted_class = np.argmax(y_pred)\n",
        "print(\"Prediction:\", predicted_class)"
      ],
      "metadata": {
        "colab": {
          "base_uri": "https://localhost:8080/"
        },
        "id": "KbAgcZq3bUb7",
        "outputId": "fdbbd0a3-1b7c-40ef-91f4-609117cd3efb"
      },
      "execution_count": 88,
      "outputs": [
        {
          "output_type": "stream",
          "name": "stdout",
          "text": [
            "Prediction: 3\n"
          ]
        }
      ]
    },
    {
      "cell_type": "code",
      "source": [],
      "metadata": {
        "id": "qU6iHTMUcGn5"
      },
      "execution_count": 144,
      "outputs": []
    },
    {
      "cell_type": "code",
      "source": [
        "import matplotlib.pyplot as plt\n",
        "index = 0\n",
        "plt.imshow(img.reshape(28,28), cmap='gray')\n",
        "plt.axis('off');"
      ],
      "metadata": {
        "colab": {
          "base_uri": "https://localhost:8080/",
          "height": 406
        },
        "id": "TqYcHM-2fW-z",
        "outputId": "6bfed9c8-7635-4c63-9417-abfcd4415cf8"
      },
      "execution_count": 89,
      "outputs": [
        {
          "output_type": "display_data",
          "data": {
            "text/plain": [
              "<Figure size 640x480 with 1 Axes>"
            ],
            "image/png": "[encoded data removed]"
          },
          "metadata": {}
        }
      ]
    },
    {
      "cell_type": "code",
      "source": [
        "\n",
        "ShowMeArray(inverted_image)"
      ],
      "metadata": {
        "colab": {
          "base_uri": "https://localhost:8080/"
        },
        "id": "tSE2uETQfYnI",
        "outputId": "e2257d2d-a691-4638-8ca4-8ff2e50b22fa"
      },
      "execution_count": 90,
      "outputs": [
        {
          "output_type": "stream",
          "name": "stdout",
          "text": [
            "0   0   0   0   0   0   0   0   0   0   0   0   0   0   0   0   0   0   0   0   0   0   0   0   0   0   0   0   \n",
            "0   0   0   0   0   0   0   0   0   0   0   0   0   0   0   0   0   0   0   0   0   0   0   0   0   0   0   0   \n",
            "0   0   0   0   0   0   0   0   0   0   0   5   0   0   0   0   0   2   2   0   0   0   0   0   0   0   0   0   \n",
            "0   0   0   0   0   0   0   0   7   158   250   95   8   1   1   1   1   6   6   246   2   2   0   0   0   0   0   0   \n",
            "0   0   0   0   0   0   0   186   2   8   0   0   0   0   0   0   0   0   0   0   5   78   10   0   0   0   0   0   \n",
            "0   0   0   0   0   0   0   0   0   0   0   0   0   0   0   0   0   0   0   0   0   0   80   6   0   0   0   0   \n",
            "0   0   0   0   0   0   0   0   0   0   0   0   0   0   0   0   0   0   0   0   0   0   4   1   0   0   0   0   \n",
            "0   0   0   0   0   0   0   0   0   0   0   0   0   0   0   0   0   0   0   0   0   0   1   1   0   0   0   0   \n",
            "0   0   0   0   0   0   0   0   0   0   0   0   0   0   0   0   0   0   0   0   0   0   78   1   0   0   0   0   \n",
            "0   0   0   0   0   0   0   0   0   0   0   0   0   0   0   0   0   0   0   0   0   4   251   0   0   0   0   0   \n",
            "0   0   0   0   0   0   0   0   0   0   0   0   0   0   0   0   0   0   0   0   0   228   1   0   0   0   0   0   \n",
            "0   0   0   0   0   0   0   0   0   0   0   0   0   0   0   0   0   0   0   0   252   4   0   0   0   0   0   0   \n",
            "0   0   0   0   0   0   0   0   0   0   0   0   0   0   0   0   4   6   152   98   0   0   0   0   0   0   0   0   \n",
            "0   0   0   0   0   0   1   1   1   1   1   8   5   0   215   254   9   12   0   0   0   0   0   0   0   0   0   0   \n",
            "0   0   0   0   0   0   2   2   0   1   249   254   4   2   0   0   0   0   0   0   0   0   0   0   0   0   0   0   \n",
            "0   0   0   0   0   0   0   0   0   0   0   2   0   0   255   116   0   0   0   0   0   0   0   0   0   0   0   0   \n",
            "0   0   0   0   0   0   0   0   0   0   0   0   0   0   0   0   252   1   0   0   0   0   0   0   0   0   0   0   \n",
            "0   0   0   0   0   0   0   0   0   0   0   0   0   0   0   0   0   9   255   1   0   0   0   0   0   0   0   0   \n",
            "0   0   0   0   0   0   0   0   0   0   0   0   0   1   1   0   0   1   4   248   0   0   0   0   0   0   0   0   \n",
            "0   0   0   0   0   0   0   0   0   0   0   0   0   0   0   0   0   0   0   0   1   0   0   0   0   0   0   0   \n",
            "0   0   0   0   0   0   0   0   0   0   0   0   0   0   0   0   0   0   0   0   254   0   0   0   0   0   0   0   \n",
            "0   0   0   0   0   0   0   0   0   0   0   0   0   0   0   0   0   0   0   0   253   0   0   0   0   0   0   0   \n",
            "0   0   0   0   252   4   1   0   0   0   0   0   0   0   0   0   0   0   0   38   3   0   0   0   0   0   0   0   \n",
            "0   0   0   0   0   3   253   68   1   0   0   0   0   0   0   0   0   0   1   1   0   0   0   0   0   0   0   0   \n",
            "0   0   0   0   0   0   0   0   2   159   254   10   0   0   0   0   7   245   7   0   0   0   0   0   0   0   0   0   \n",
            "0   0   0   0   0   0   0   0   0   0   1   4   4   77   77   2   1   1   0   0   0   0   0   0   0   0   0   0   \n",
            "0   0   0   0   0   0   0   0   0   0   0   0   0   0   0   0   0   0   0   0   0   0   0   0   0   0   0   0   \n",
            "0   0   0   0   0   0   0   0   0   0   0   0   0   0   0   0   0   0   0   0   0   0   0   0   0   0   0   0   \n"
          ]
        }
      ]
    },
    {
      "cell_type": "code",
      "source": [],
      "metadata": {
        "id": "gNebLNXLgHuO"
      },
      "execution_count": null,
      "outputs": []
    }
  ]
}